{
 "cells": [
  {
   "cell_type": "markdown",
   "metadata": {},
   "source": [
    "# Data Science Tutorial"
   ]
  },
  {
   "cell_type": "code",
   "execution_count": null,
   "metadata": {},
   "outputs": [],
   "source": []
  },
  {
   "cell_type": "markdown",
   "metadata": {},
   "source": [
    "### Pre-requisitives"
   ]
  },
  {
   "cell_type": "markdown",
   "metadata": {},
   "source": [
    "1. Understanding of Python and able to code in it\n",
    "2. Understanding of Data, various Data Types in Python\n",
    "3. Basic knowledge of statistics"
   ]
  },
  {
   "cell_type": "markdown",
   "metadata": {},
   "source": [
    "### Course Outline"
   ]
  },
  {
   "cell_type": "markdown",
   "metadata": {},
   "source": [
    "#### Importing data, Data Cleaning and Descriptive Analytics"
   ]
  },
  {
   "cell_type": "markdown",
   "metadata": {},
   "source": [
    "##### Importing data"
   ]
  },
  {
   "cell_type": "markdown",
   "metadata": {},
   "source": [
    "1. Read data from local machine\n",
    "1.1 Read from csv file\n",
    "1.2 Read from Excel file\n",
    "1.3 Read from text file\n",
    "1.4 Read from other data file (html, json)\n",
    "\n",
    "2. Connect to a server\n",
    "2.1 Connecting to a SQL server\n",
    "2.2 Connecting to Amazon Cloud (S3, Redshift)\n"
   ]
  },
  {
   "cell_type": "markdown",
   "metadata": {},
   "source": [
    "#### Descriptive Analytics"
   ]
  },
  {
   "cell_type": "markdown",
   "metadata": {},
   "source": [
    "To see how the data looks like, number of rows and column, their data type and other basic statistical paramters (mean, std)"
   ]
  },
  {
   "cell_type": "markdown",
   "metadata": {},
   "source": [
    "What?\n",
    "1. Summary of the data\n",
    "2. Checking for NULL values in data\n",
    "3. Checking for outliers in Data\n",
    "4. Checking for skewness\n",
    "5. Checking for class imbalance\n",
    "6. Checking for distribution of various categorical columns"
   ]
  },
  {
   "cell_type": "markdown",
   "metadata": {},
   "source": [
    "How?\n",
    "1. Using various python functions\n",
    "2. Using some packages\n",
    "2.1 pandas-profiling"
   ]
  },
  {
   "cell_type": "markdown",
   "metadata": {},
   "source": [
    "#### Data Visualization"
   ]
  },
  {
   "cell_type": "markdown",
   "metadata": {},
   "source": [
    "What?\n",
    "1. Plotting basic curves\n",
    "2. Looking at the distribution\n",
    "3. Checking for relations and patterns in data"
   ]
  },
  {
   "cell_type": "markdown",
   "metadata": {},
   "source": [
    "What else?\n",
    "1. Line Chart\n",
    "2. Bar and Column Chart\n",
    "3. Histogram\n",
    "4. Pie Chart\n",
    "5. Scatter Plot\n",
    "6. Box Plot\n",
    "7. Other charts (area chart, dendogram, radar chart, heat map, bubble chart, 3-D plots)\n",
    "\n",
    "References: https://python-graph-gallery.com/all-charts/"
   ]
  },
  {
   "cell_type": "markdown",
   "metadata": {},
   "source": [
    "How?\n",
    "Libraries:\n",
    "    1. matplotlib\n",
    "    2. seaborn\n",
    "    3. ggplot\n",
    "    4. plotly\n",
    "\n",
    "Tableau is also a good tool to be explored.\n",
    "\n",
    "References: https://mode.com/blog/python-data-visualization-libraries/    "
   ]
  },
  {
   "cell_type": "markdown",
   "metadata": {},
   "source": [
    "#### Data Cleaning"
   ]
  },
  {
   "cell_type": "markdown",
   "metadata": {},
   "source": [
    "What?\n",
    "1. Treating/Imputing missing values\n",
    "2. Treating/Removing Outliers\n",
    "3. Removing garbage values\n",
    "4. Removing unnessary columns\n",
    "5. Fixing data types\n",
    "6. Cleaning entire column element-wise using .apply family\n",
    "7. Data cleaning of values in column (removing leading zeros, dropping special characters)\n",
    "8. Cleaning dates and reformatting them\n",
    "9. Converting string nan into NaN values\n",
    "10. Conditional cleaning using np.where\n",
    "11. Renaming columns\n",
    "12. Capitilizing and lowering strings\n",
    "13. Dropping rows/columns with missing values\n",
    "\n",
    "References: https://realpython.com/python-data-cleaning-numpy-pandas/\n",
    "            https://towardsdatascience.com/data-cleaning-in-python-the-ultimate-guide-2020-c63b88bf0a0d\n",
    "            https://towardsdatascience.com/data-cleaning-with-python-and-pandas-detecting-missing-values-3e9c6ebcf78b\n",
    "            https://medium.com/@rrfd/cleaning-and-prepping-data-with-python-for-data-science-best-practices-and-helpful-packages-af1edfbe2a3"
   ]
  },
  {
   "cell_type": "markdown",
   "metadata": {},
   "source": [
    "How?\n",
    "We will go through each of the above in detail below"
   ]
  },
  {
   "cell_type": "markdown",
   "metadata": {},
   "source": [
    "You can again visualize the data to make sure that it is good for further analysis \n",
    "I prefer doing it with pandas-profiling. But, this will take too much time on large dataset.\n",
    "pandas-profiling: https://github.com/pandas-profiling/pandas-profiling"
   ]
  },
  {
   "cell_type": "code",
   "execution_count": null,
   "metadata": {},
   "outputs": [],
   "source": []
  },
  {
   "cell_type": "markdown",
   "metadata": {},
   "source": [
    "### Machine Learning\n",
    "Unsupervised Learning\n",
    "\n",
    "Supervised Learning"
   ]
  },
  {
   "cell_type": "markdown",
   "metadata": {},
   "source": [
    "### Unsupervise Learning\n",
    "Unsupervised learning is a type of machine learning that looks for previously undetected patterns in a data set with no pre-existing labels and with a minimum of human supervision. In contrast to supervised learning that usually makes use of human-labeled data, unsupervised learning, also known as self-organization allows for modeling of probability densities over inputs.\n",
    "\n",
    "##### Applications of unsupervised machine learning\n",
    "- Clustering automatically split the dataset into groups base on their similarities\n",
    "- Anomaly detection can discover unusual data points in your dataset. It is useful for finding fraudulent transactions\n",
    "- Association mining identifies sets of items which often occur together in your dataset\n",
    "- Latent variable models are widely used for data preprocessing. Like reducing the number of features in a dataset or decomposing the dataset into multiple components\n",
    "\n",
    "##### Disadvantages of Unsupervised Learning\n",
    "- You cannot get precise information regarding data sorting, and the output as data used in unsupervised learning is labeled and not known\n",
    "- Less accuracy of the results is because the input data is not known and not labeled by people in advance. This means that the machine requires to do this itself.\n",
    "- The spectral classes do not always correspond to informational classes.\n",
    "- The user needs to spend time interpreting and label the classes which follow that classification.\n",
    "- Spectral properties of classes can also change over time so you can't have the same class information while moving from one image to another.\n",
    "\n",
    "References:  \n",
    "https://www.guru99.com/unsupervised-machine-learning.html  \n",
    "            https://en.wikipedia.org/wiki/Unsupervised_learning  \n",
    "            https://towardsdatascience.com/unsupervised-learning-and-data-clustering-eeecb78b422a\n",
    "            "
   ]
  },
  {
   "cell_type": "markdown",
   "metadata": {},
   "source": [
    "1. Clustering  \n",
    "1.1 k-means  \n",
    "1.2 Hierarchical clustering  \n",
    "1.3 K-NN (k nearest neighbors)  \n",
    "1.4 Principal Component Analysis  \n",
    "  \n",
    "2. Anomaly Dtection  \n",
    "\n",
    "References:  \n",
    "https://algorithmia.com/blog/introduction-to-unsupervised-learning"
   ]
  },
  {
   "cell_type": "markdown",
   "metadata": {},
   "source": [
    "### Supervise Learning\n",
    "\n",
    "Supervised learning is the machine learning task of learning a function that maps an input to an output based on example input-output pairs. It infers a function from labeled training data consisting of a set of training examples. In supervised learning, each example is a pair consisting of an input object (typically a vector) and a desired output value (also called the supervisory signal). A supervised learning algorithm analyzes the training data and produces an inferred function, which can be used for mapping new examples. An optimal scenario will allow for the algorithm to correctly determine the class labels for unseen instances. This requires the learning algorithm to generalize from the training data to unseen situations in a \"reasonable\" way.  \n",
    "  \n",
    "In order to solve a given problem of supervised learning, one has to perform the following steps:  \n",
    "\n",
    "- Determine the type of training examples. Before doing anything else, the user should decide what kind of data is to be used as a training set.  \n",
    "- Gather a training set. The training set needs to be representative of the real-world use of the function. Thus, a set of input objects is gathered and corresponding outputs are also gathered, either from human experts or from measurements.  \n",
    "- Determine the input feature representation of the learned function. The accuracy of the learned function depends strongly on how the input object is represented. Typically, the input object is transformed into a feature vector, which contains a number of features that are descriptive of the object. The number of features should not be too large, because of the curse of dimensionality; but should contain enough information to accurately predict the output.  \n",
    "- Determine the structure of the learned function and corresponding learning algorithm.  \n",
    "- Complete the design. Run the learning algorithm on the gathered training set. Some supervised learning algorithms require the user to determine certain control parameters. These parameters may be adjusted by optimizing performance on a subset (called a validation set) of the training set, or via cross-validation.  \n",
    "- Evaluate the accuracy of the learned function. After parameter adjustment and learning, the performance of the resulting function should be measured on a test set that is separate from the training set."
   ]
  },
  {
   "cell_type": "markdown",
   "metadata": {},
   "source": [
    "1. Linear regression \n",
    "2. Logistic regression\n",
    "3. Support Vector Machines\n",
    "4. Naive Bayes\n",
    "5. Decision trees\n",
    "6. Random Forest\n",
    "7. Neural Network\n",
    "  \n",
    "Then hyperparameters are tuned for individual dataset"
   ]
  },
  {
   "cell_type": "markdown",
   "metadata": {},
   "source": [
    "### Further Learnings\n",
    "1. Feature Engineering\n",
    "2. Balancing class-imbalance in Data\n",
    "3. Synthesis the findings\n",
    "4. Using external data to further enrich the existing dataset\n",
    "5. ..."
   ]
  },
  {
   "cell_type": "code",
   "execution_count": null,
   "metadata": {},
   "outputs": [],
   "source": []
  },
  {
   "cell_type": "code",
   "execution_count": null,
   "metadata": {},
   "outputs": [],
   "source": []
  }
 ],
 "metadata": {
  "kernelspec": {
   "display_name": "Python 3",
   "language": "python",
   "name": "python3"
  },
  "language_info": {
   "codemirror_mode": {
    "name": "ipython",
    "version": 3
   },
   "file_extension": ".py",
   "mimetype": "text/x-python",
   "name": "python",
   "nbconvert_exporter": "python",
   "pygments_lexer": "ipython3",
   "version": "3.7.4"
  }
 },
 "nbformat": 4,
 "nbformat_minor": 2
}
